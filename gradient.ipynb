{
  "nbformat": 4,
  "nbformat_minor": 0,
  "metadata": {
    "colab": {
      "name": "Untitled1.ipynb",
      "version": "0.3.2",
      "provenance": [],
      "include_colab_link": true
    },
    "kernelspec": {
      "name": "python3",
      "display_name": "Python 3"
    }
  },
  "cells": [
    {
      "cell_type": "markdown",
      "metadata": {
        "id": "view-in-github",
        "colab_type": "text"
      },
      "source": [
        "<a href=\"https://colab.research.google.com/github/adasrinivas1229/vasu/blob/master/gradient.ipynb\" target=\"_parent\"><img src=\"https://colab.research.google.com/assets/colab-badge.svg\" alt=\"Open In Colab\"/></a>"
      ]
    },
    {
      "cell_type": "code",
      "metadata": {
        "id": "6EHOu8DVQVAM",
        "colab_type": "code",
        "colab": {
          "base_uri": "https://localhost:8080/",
          "height": 289
        },
        "outputId": "cd4dd332-231f-4105-e298-94788001be19"
      },
      "source": [
        "import numpy as np\n",
        "w1=5\n",
        "w2=5\n",
        "w=np.array([w1,w2])\n",
        "learning_rate=0.3\n",
        "def gradient(w):\n",
        "  return (np.array([2*w[0]-6,2*w[1]+8]))\n",
        "def loss(w):\n",
        "  return(w[0]*w[0]+w[1]*w[1]-6*w[0]+8*w[1]-9)\n",
        "iterations=4\n",
        "for i in range(0,4):\n",
        "  print(\"in iteration\",i+1)\n",
        "  print(\"before updation loss is\",loss(w))\n",
        "  w=w-learning_rate*gradient(w)\n",
        "  print(w)\n",
        "  print(\"after update loss is\",loss(w))\n",
        "  "
      ],
      "execution_count": 1,
      "outputs": [
        {
          "output_type": "stream",
          "text": [
            "in iteration 1\n",
            "before updation loss is 51\n",
            "[ 3.8 -0.4]\n",
            "after update loss is -20.39999999999999\n",
            "in iteration 2\n",
            "before updation loss is -20.39999999999999\n",
            "[ 3.32 -2.56]\n",
            "after update loss is -31.823999999999998\n",
            "in iteration 3\n",
            "before updation loss is -31.823999999999998\n",
            "[ 3.128 -3.424]\n",
            "after update loss is -33.65184\n",
            "in iteration 4\n",
            "before updation loss is -33.65184\n",
            "[ 3.0512 -3.7696]\n",
            "after update loss is -33.944294400000004\n"
          ],
          "name": "stdout"
        }
      ]
    }
  ]
}